{
  "nbformat": 4,
  "nbformat_minor": 0,
  "metadata": {
    "colab": {
      "name": "2014732067_이정욱_fin.ipynb",
      "provenance": [],
      "collapsed_sections": []
    },
    "kernelspec": {
      "name": "python3",
      "display_name": "Python 3"
    },
    "language_info": {
      "name": "python"
    },
    "accelerator": "GPU"
  },
  "cells": [
    {
      "cell_type": "markdown",
      "source": [
        "##Imports"
      ],
      "metadata": {
        "id": "kT9zrVUTwNwu"
      }
    },
    {
      "cell_type": "code",
      "execution_count": 41,
      "metadata": {
        "colab": {
          "base_uri": "https://localhost:8080/"
        },
        "id": "ORcgkD9ev6Lz",
        "outputId": "dd94254c-e289-4fa5-a025-9d466404b831"
      },
      "outputs": [
        {
          "output_type": "stream",
          "name": "stdout",
          "text": [
            "Drive already mounted at /content/drive; to attempt to forcibly remount, call drive.mount(\"/content/drive\", force_remount=True).\n",
            "cuda\n"
          ]
        }
      ],
      "source": [
        "import os\n",
        "import torch\n",
        "import torch.nn as nn\n",
        "from torchtext.legacy import data, datasets \n",
        "from google.colab import drive\n",
        "drive.mount('/content/drive')\n",
        "\n",
        "device = 'cuda' if torch.cuda.is_available() else 'cpu'\n",
        "print(device)\n",
        "\n",
        "# for reproducibility\n",
        "torch.manual_seed(777)\n",
        "if device == 'cuda':\n",
        "    torch.cuda.manual_seed_all(777)\n",
        "\n",
        "# parameters\n",
        "batch_size = 64\n",
        "learning_rate = 0.001\n",
        "training_epochs = 5"
      ]
    },
    {
      "cell_type": "markdown",
      "source": [
        "## 1 Dataset"
      ],
      "metadata": {
        "id": "i_e7jGh7wXdh"
      }
    },
    {
      "cell_type": "code",
      "source": [
        "# IMDB Dataset\n",
        "\n",
        "# data.Field 설명 #\n",
        "# sequential인자 : TEXT는 Sequential 데이터라 True, Lable은 비Sequential이라 False로 설정\n",
        "# batch_first : Batch를 우선시 하여, Tensor 크기를 (BATCH_SIZE, 문장의 최대 길이)로 설정\n",
        "# lower : 소문자 전환 인자\n",
        "\n",
        "TEXT = data.Field(sequential=True, batch_first=True, lower=True)\n",
        "LABEL = data.Field(sequential=False, batch_first=True)\n",
        "trainset, validset, testset = datasets.SST.splits(TEXT, LABEL)\n",
        "\n",
        "# data.Field.build_vocab() 라이브러리\n",
        "# 문장 내 단어와 Integer index 를 매칭시키는 단어장(vocab)을 생성 == 워드 임베딩을 위한 Vocab 생성\n",
        "# <UNK> = 0, <PAD> = 1 토큰도 추가.\n",
        "# min_freq : 최소 5번 이상 등장한 단어들만 사전에 담겠다는 것. \n",
        "# 5번 미만으로 등장하는 단어는 UNK라는 토큰으로 대체\n",
        "\n",
        "TEXT.build_vocab(trainset, min_freq=5)# TEXT 데이터를 기반으로 Vocab 생성\n",
        "LABEL.build_vocab(trainset)# LABEL 데이터를 기반으로 Vocab 생성\n",
        "\n",
        "# 학습용 데이터를 학습셋 80% 검증셋 20% 로 나누기\n",
        "#trainset, validset = trainset.split(split_ratio=0.8)\n",
        "# 매 배치마다 비슷한 길이에 맞춰 줄 수 있도록 iterator 정의\n",
        "train_iter, val_iter, test_iter = data.BucketIterator.splits(\n",
        "        (trainset, validset, testset), batch_size=batch_size,\n",
        "        shuffle=True, repeat=False)\n",
        "\n",
        "vocab_size = len(TEXT.vocab)\n",
        "n_classes = 3 # Positive, Negative Class가 두 개\n",
        "\n",
        "print(\"[TrainSet]: %d [ValSet]: %d [TestSet]: %d [Vocab]: %d [Classes] %d\"\n",
        "      % (len(trainset),len(validset), len(testset), vocab_size, n_classes))"
      ],
      "metadata": {
        "colab": {
          "base_uri": "https://localhost:8080/"
        },
        "id": "9eLs68z3waHi",
        "outputId": "f47e2bac-6233-41e0-a07c-68b882573145"
      },
      "execution_count": 31,
      "outputs": [
        {
          "output_type": "stream",
          "name": "stdout",
          "text": [
            "[TrainSet]: 8544 [ValSet]: 1101 [TestSet]: 2210 [Vocab]: 3428 [Classes] 3\n"
          ]
        }
      ]
    },
    {
      "cell_type": "markdown",
      "source": [
        "## 2 RNN model"
      ],
      "metadata": {
        "id": "te2CSNd1wioY"
      }
    },
    {
      "cell_type": "markdown",
      "source": [
        "+ Layer 설계 \n",
        "  + Layer 1 \n",
        "    + Embedding layer\n",
        "    + Input size = n_Vocabs = 46159\n",
        "    + Output size = Embedding size\n",
        "  * Layer 2\n",
        "    + GRU Layer\n",
        "    + Input size = Embedding size\n",
        "    + Output size = Hidden size\n",
        "    + Dropout = 0.2\n",
        "  * Layer 3\n",
        "    + Linear Layer\n",
        "    + Input size = Hidden size\n",
        "    + Output size = n_Classes = 2\n",
        "\n",
        "\n"
      ],
      "metadata": {
        "id": "oQg2jxQ3w5dU"
      }
    },
    {
      "cell_type": "code",
      "source": [
        "class BasicGRU(nn.Module):\n",
        "    def __init__(self, n_layers, hidden_dim, n_vocab, embed_dim, n_classes, dropout_p=0.2):\n",
        "        super(BasicGRU, self).__init__()\n",
        "        self.n_layers = n_layers # 일반적으로는 2\n",
        "\n",
        "        #n_vocab : Vocab 안에 있는 단어의 개수, embed_dim : 임베딩 된 단어 텐서가 갖는 차원 값(dimension)\n",
        "        self.embed = nn.Embedding(n_vocab, embed_dim)\n",
        "\n",
        "        # hidden vector의 dimension과 dropout 정의\n",
        "        self.hidden_dim = hidden_dim\n",
        "        self.dropout = nn.Dropout(dropout_p)\n",
        "\n",
        "        #앞에서 정의한 하이퍼 파라미터를 넣어 GRU 정의\n",
        "        self.gru = nn.GRU(embed_dim, self.hidden_dim,\n",
        "                          num_layers=self.n_layers,\n",
        "                          batch_first=True)\n",
        "        \n",
        "        #Input: GRU의 hidden vector(context), Output : Class probability vector\n",
        "        self.out = nn.Linear(self.hidden_dim, n_classes)\n",
        "\n",
        "    def forward(self, x):\n",
        "        # Input data: 한 batch 내 모든 영화 평가 데이터\n",
        "        \n",
        "        x = self.embed(x)# 영화 평 임베딩\n",
        "        x, _ = self.gru(x)  # [i, b, h] 출력값 :  (batch_size, 입력 x의 길이, hidden_dim)\n",
        "\n",
        "        # h_t : Batch 내 모든 sequential hidden state vector의 제일 마지막 토큰을 내포한 (batch_size, 1, hidden_dim)형태의 텐서 추출\n",
        "        # 다른 의미로 영화 리뷰 배열들을 압축한 hidden state vector\n",
        "        h_t = x[:,-1,:]\n",
        "\n",
        "        self.dropout(h_t)# dropout 설정 후, \n",
        "\n",
        "        # linear layer의 입력으로 주고, 각 클래스 별 결과 logit을 생성.\n",
        "        out = self.out(h_t)  # [b, h] -> [b, o]\n",
        "        return out"
      ],
      "metadata": {
        "id": "lXpKdKo2w4l6"
      },
      "execution_count": 32,
      "outputs": []
    },
    {
      "cell_type": "markdown",
      "source": [
        "## 3 학습하기##"
      ],
      "metadata": {
        "id": "Mk1wWOzqzpd2"
      }
    },
    {
      "cell_type": "code",
      "source": [
        "# contruct model\n",
        "#from keras.callbacks import EarlyStopping\n",
        "#early_stopping = EarlyStopping(monitor='val_loss', patience=3, verbose=1)\n",
        "\n",
        "model = BasicGRU(1, 256, vocab_size, 128, n_classes, 0.5).to(device)\n",
        "\n",
        "# define cost/loss & optimizer\n",
        "criterion = torch.nn.CrossEntropyLoss().to(device)    # Softmax\n",
        "optimizer = torch.optim.Adam(model.parameters(), lr=learning_rate)\n",
        "\n",
        "# train\n",
        "corrects = 0\n",
        "for batch in val_iter:\n",
        "  x,y = batch.text.to(device), batch.label.to(device)\n",
        "  y.data.sub_(1)\n",
        "  hypothesis = model(x)\n",
        "  corrects += (hypothesis.max(1)[1].view(y.size()).data == y.data).sum() \n",
        "  for epoch in range(training_epochs):\n",
        "    avg_cost = 0\n",
        "    for batch in train_iter:\n",
        "      X, Y = batch.text.to(device), batch.label.to(device)\n",
        "      Y.data.sub_(1)\n",
        "      optimizer.zero_grad()\n",
        "      hypothesis = model(X)\n",
        "      cost = criterion(hypothesis, Y)\n",
        "      cost.backward()\n",
        "      optimizer.step()\n",
        "      avg_cost += cost / batch_size\n",
        "    print('[Epoch: {:>4}] cost = {:>.9}'.format(epoch + 1, avg_cost))\n",
        "    #print('batch =' , batch)\n",
        "    print('accuracy = ', corrects/len(val_iter.dataset)*100.0)\n",
        "    # model save\n",
        "    torch.save(model.state_dict(), '/content/drive/MyDrive/model_before.pt')\n",
        "  print('2 epoch 동안 accuracy 증가가 없어' ,epoch, 'epoch 학습 후 종료합니다')\n",
        "\n",
        "\n",
        " # final model save\n",
        "torch.save(model.state_dict(), '/content/drive/MyDrive/model_final.pt')\n",
        "\n"
      ],
      "metadata": {
        "colab": {
          "base_uri": "https://localhost:8080/"
        },
        "id": "mjOtDXDCzt24",
        "outputId": "4aff48b0-a6ec-4ff3-905b-faff9d337dac"
      },
      "execution_count": 42,
      "outputs": [
        {
          "output_type": "stream",
          "name": "stdout",
          "text": [
            "[Epoch:    1] cost = 2.21398544\n",
            "accuracy =  tensor(1.8165, device='cuda:0')\n",
            "[Epoch:    2] cost = 2.1223073\n",
            "accuracy =  tensor(1.8165, device='cuda:0')\n",
            "[Epoch:    3] cost = 1.85662341\n",
            "accuracy =  tensor(1.8165, device='cuda:0')\n",
            "[Epoch:    4] cost = 1.58854115\n",
            "accuracy =  tensor(1.8165, device='cuda:0')\n",
            "[Epoch:    5] cost = 1.32199502\n",
            "accuracy =  tensor(1.8165, device='cuda:0')\n",
            "2 epoch 동안 accuracy 증가가 없어 4 epoch 학습 후 종료합니다\n",
            "[Epoch:    1] cost = 1.01774716\n",
            "accuracy =  tensor(4.9955, device='cuda:0')\n",
            "[Epoch:    2] cost = 0.723435819\n",
            "accuracy =  tensor(4.9955, device='cuda:0')\n",
            "[Epoch:    3] cost = 0.474854439\n",
            "accuracy =  tensor(4.9955, device='cuda:0')\n",
            "[Epoch:    4] cost = 0.298289716\n",
            "accuracy =  tensor(4.9955, device='cuda:0')\n",
            "[Epoch:    5] cost = 0.172503293\n",
            "accuracy =  tensor(4.9955, device='cuda:0')\n",
            "2 epoch 동안 accuracy 증가가 없어 4 epoch 학습 후 종료합니다\n",
            "[Epoch:    1] cost = 0.122922316\n",
            "accuracy =  tensor(9.0827, device='cuda:0')\n",
            "[Epoch:    2] cost = 0.106784448\n",
            "accuracy =  tensor(9.0827, device='cuda:0')\n",
            "[Epoch:    3] cost = 0.065542154\n",
            "accuracy =  tensor(9.0827, device='cuda:0')\n",
            "[Epoch:    4] cost = 0.101352751\n",
            "accuracy =  tensor(9.0827, device='cuda:0')\n",
            "[Epoch:    5] cost = 0.0733474419\n",
            "accuracy =  tensor(9.0827, device='cuda:0')\n",
            "2 epoch 동안 accuracy 증가가 없어 4 epoch 학습 후 종료합니다\n",
            "[Epoch:    1] cost = 0.0507500023\n",
            "accuracy =  tensor(12.4432, device='cuda:0')\n",
            "[Epoch:    2] cost = 0.041244451\n",
            "accuracy =  tensor(12.4432, device='cuda:0')\n",
            "[Epoch:    3] cost = 0.0310954824\n",
            "accuracy =  tensor(12.4432, device='cuda:0')\n",
            "[Epoch:    4] cost = 0.0409368835\n",
            "accuracy =  tensor(12.4432, device='cuda:0')\n",
            "[Epoch:    5] cost = 0.0398610234\n",
            "accuracy =  tensor(12.4432, device='cuda:0')\n",
            "2 epoch 동안 accuracy 증가가 없어 4 epoch 학습 후 종료합니다\n",
            "[Epoch:    1] cost = 0.0422776937\n",
            "accuracy =  tensor(15.5313, device='cuda:0')\n",
            "[Epoch:    2] cost = 0.0355245173\n",
            "accuracy =  tensor(15.5313, device='cuda:0')\n",
            "[Epoch:    3] cost = 0.0343789794\n",
            "accuracy =  tensor(15.5313, device='cuda:0')\n",
            "[Epoch:    4] cost = 0.0278833248\n",
            "accuracy =  tensor(15.5313, device='cuda:0')\n",
            "[Epoch:    5] cost = 0.048866041\n",
            "accuracy =  tensor(15.5313, device='cuda:0')\n",
            "2 epoch 동안 accuracy 증가가 없어 4 epoch 학습 후 종료합니다\n",
            "[Epoch:    1] cost = 0.0802628547\n",
            "accuracy =  tensor(18.4378, device='cuda:0')\n",
            "[Epoch:    2] cost = 0.0348148271\n",
            "accuracy =  tensor(18.4378, device='cuda:0')\n",
            "[Epoch:    3] cost = 0.0227128956\n",
            "accuracy =  tensor(18.4378, device='cuda:0')\n",
            "[Epoch:    4] cost = 0.0228130408\n",
            "accuracy =  tensor(18.4378, device='cuda:0')\n",
            "[Epoch:    5] cost = 0.0177330095\n",
            "accuracy =  tensor(18.4378, device='cuda:0')\n",
            "2 epoch 동안 accuracy 증가가 없어 4 epoch 학습 후 종료합니다\n",
            "[Epoch:    1] cost = 0.0229525547\n",
            "accuracy =  tensor(21.2534, device='cuda:0')\n",
            "[Epoch:    2] cost = 0.0386350639\n",
            "accuracy =  tensor(21.2534, device='cuda:0')\n",
            "[Epoch:    3] cost = 0.0338224657\n",
            "accuracy =  tensor(21.2534, device='cuda:0')\n",
            "[Epoch:    4] cost = 0.0457676016\n",
            "accuracy =  tensor(21.2534, device='cuda:0')\n",
            "[Epoch:    5] cost = 0.0500297211\n",
            "accuracy =  tensor(21.2534, device='cuda:0')\n",
            "2 epoch 동안 accuracy 증가가 없어 4 epoch 학습 후 종료합니다\n",
            "[Epoch:    1] cost = 0.0422403328\n",
            "accuracy =  tensor(24.3415, device='cuda:0')\n",
            "[Epoch:    2] cost = 0.032007277\n",
            "accuracy =  tensor(24.3415, device='cuda:0')\n",
            "[Epoch:    3] cost = 0.0169859789\n",
            "accuracy =  tensor(24.3415, device='cuda:0')\n",
            "[Epoch:    4] cost = 0.0107275993\n",
            "accuracy =  tensor(24.3415, device='cuda:0')\n",
            "[Epoch:    5] cost = 0.0111380825\n",
            "accuracy =  tensor(24.3415, device='cuda:0')\n",
            "2 epoch 동안 accuracy 증가가 없어 4 epoch 학습 후 종료합니다\n",
            "[Epoch:    1] cost = 0.0100113973\n",
            "accuracy =  tensor(27.8837, device='cuda:0')\n",
            "[Epoch:    2] cost = 0.0104447277\n",
            "accuracy =  tensor(27.8837, device='cuda:0')\n",
            "[Epoch:    3] cost = 0.0101986928\n",
            "accuracy =  tensor(27.8837, device='cuda:0')\n",
            "[Epoch:    4] cost = 0.0093187103\n",
            "accuracy =  tensor(27.8837, device='cuda:0')\n",
            "[Epoch:    5] cost = 0.00898098573\n",
            "accuracy =  tensor(27.8837, device='cuda:0')\n",
            "2 epoch 동안 accuracy 증가가 없어 4 epoch 학습 후 종료합니다\n",
            "[Epoch:    1] cost = 0.00947104488\n",
            "accuracy =  tensor(31.9709, device='cuda:0')\n",
            "[Epoch:    2] cost = 0.0103808809\n",
            "accuracy =  tensor(31.9709, device='cuda:0')\n",
            "[Epoch:    3] cost = 0.00858441368\n",
            "accuracy =  tensor(31.9709, device='cuda:0')\n",
            "[Epoch:    4] cost = 0.00983189326\n",
            "accuracy =  tensor(31.9709, device='cuda:0')\n",
            "[Epoch:    5] cost = 0.0119382571\n",
            "accuracy =  tensor(31.9709, device='cuda:0')\n",
            "2 epoch 동안 accuracy 증가가 없어 4 epoch 학습 후 종료합니다\n",
            "[Epoch:    1] cost = 0.0110016251\n",
            "accuracy =  tensor(35.0590, device='cuda:0')\n",
            "[Epoch:    2] cost = 0.00958230998\n",
            "accuracy =  tensor(35.0590, device='cuda:0')\n",
            "[Epoch:    3] cost = 0.0186803117\n",
            "accuracy =  tensor(35.0590, device='cuda:0')\n",
            "[Epoch:    4] cost = 0.169521645\n",
            "accuracy =  tensor(35.0590, device='cuda:0')\n",
            "[Epoch:    5] cost = 0.0908174142\n",
            "accuracy =  tensor(35.0590, device='cuda:0')\n",
            "2 epoch 동안 accuracy 증가가 없어 4 epoch 학습 후 종료합니다\n",
            "[Epoch:    1] cost = 0.0277289692\n",
            "accuracy =  tensor(38.5104, device='cuda:0')\n",
            "[Epoch:    2] cost = 0.0141389109\n",
            "accuracy =  tensor(38.5104, device='cuda:0')\n",
            "[Epoch:    3] cost = 0.0114358151\n",
            "accuracy =  tensor(38.5104, device='cuda:0')\n",
            "[Epoch:    4] cost = 0.0122940373\n",
            "accuracy =  tensor(38.5104, device='cuda:0')\n",
            "[Epoch:    5] cost = 0.0115848854\n",
            "accuracy =  tensor(38.5104, device='cuda:0')\n",
            "2 epoch 동안 accuracy 증가가 없어 4 epoch 학습 후 종료합니다\n",
            "[Epoch:    1] cost = 0.0094390912\n",
            "accuracy =  tensor(41.5985, device='cuda:0')\n",
            "[Epoch:    2] cost = 0.0085460376\n",
            "accuracy =  tensor(41.5985, device='cuda:0')\n",
            "[Epoch:    3] cost = 0.00952982157\n",
            "accuracy =  tensor(41.5985, device='cuda:0')\n",
            "[Epoch:    4] cost = 0.00898408238\n",
            "accuracy =  tensor(41.5985, device='cuda:0')\n",
            "[Epoch:    5] cost = 0.00839724392\n",
            "accuracy =  tensor(41.5985, device='cuda:0')\n",
            "2 epoch 동안 accuracy 증가가 없어 4 epoch 학습 후 종료합니다\n",
            "[Epoch:    1] cost = 0.010029952\n",
            "accuracy =  tensor(44.5958, device='cuda:0')\n",
            "[Epoch:    2] cost = 0.00872747228\n",
            "accuracy =  tensor(44.5958, device='cuda:0')\n",
            "[Epoch:    3] cost = 0.00914182141\n",
            "accuracy =  tensor(44.5958, device='cuda:0')\n",
            "[Epoch:    4] cost = 0.00900631864\n",
            "accuracy =  tensor(44.5958, device='cuda:0')\n",
            "[Epoch:    5] cost = 0.00844574254\n",
            "accuracy =  tensor(44.5958, device='cuda:0')\n",
            "2 epoch 동안 accuracy 증가가 없어 4 epoch 학습 후 종료합니다\n",
            "[Epoch:    1] cost = 0.00818414241\n",
            "accuracy =  tensor(48.0472, device='cuda:0')\n",
            "[Epoch:    2] cost = 0.00869604386\n",
            "accuracy =  tensor(48.0472, device='cuda:0')\n",
            "[Epoch:    3] cost = 0.00871831179\n",
            "accuracy =  tensor(48.0472, device='cuda:0')\n",
            "[Epoch:    4] cost = 0.00798208825\n",
            "accuracy =  tensor(48.0472, device='cuda:0')\n",
            "[Epoch:    5] cost = 0.00826536585\n",
            "accuracy =  tensor(48.0472, device='cuda:0')\n",
            "2 epoch 동안 accuracy 증가가 없어 4 epoch 학습 후 종료합니다\n",
            "[Epoch:    1] cost = 0.00818791892\n",
            "accuracy =  tensor(51.0445, device='cuda:0')\n",
            "[Epoch:    2] cost = 0.00741675682\n",
            "accuracy =  tensor(51.0445, device='cuda:0')\n",
            "[Epoch:    3] cost = 0.0086523816\n",
            "accuracy =  tensor(51.0445, device='cuda:0')\n",
            "[Epoch:    4] cost = 0.00781035703\n",
            "accuracy =  tensor(51.0445, device='cuda:0')\n",
            "[Epoch:    5] cost = 0.00859528314\n",
            "accuracy =  tensor(51.0445, device='cuda:0')\n",
            "2 epoch 동안 accuracy 증가가 없어 4 epoch 학습 후 종료합니다\n",
            "[Epoch:    1] cost = 0.00951506197\n",
            "accuracy =  tensor(53.5877, device='cuda:0')\n",
            "[Epoch:    2] cost = 0.00848627184\n",
            "accuracy =  tensor(53.5877, device='cuda:0')\n",
            "[Epoch:    3] cost = 0.00788464211\n",
            "accuracy =  tensor(53.5877, device='cuda:0')\n",
            "[Epoch:    4] cost = 0.00845677499\n",
            "accuracy =  tensor(53.5877, device='cuda:0')\n",
            "[Epoch:    5] cost = 0.0114074582\n",
            "accuracy =  tensor(53.5877, device='cuda:0')\n",
            "2 epoch 동안 accuracy 증가가 없어 4 epoch 학습 후 종료합니다\n",
            "[Epoch:    1] cost = 0.00971056055\n",
            "accuracy =  tensor(54.2234, device='cuda:0')\n",
            "[Epoch:    2] cost = 0.00812723953\n",
            "accuracy =  tensor(54.2234, device='cuda:0')\n",
            "[Epoch:    3] cost = 0.00870202389\n",
            "accuracy =  tensor(54.2234, device='cuda:0')\n",
            "[Epoch:    4] cost = 0.00861888099\n",
            "accuracy =  tensor(54.2234, device='cuda:0')\n",
            "[Epoch:    5] cost = 0.00816021208\n",
            "accuracy =  tensor(54.2234, device='cuda:0')\n",
            "2 epoch 동안 accuracy 증가가 없어 4 epoch 학습 후 종료합니다\n"
          ]
        }
      ]
    },
    {
      "cell_type": "code",
      "source": [
        "# model load\n",
        "model_new = BasicGRU(1, 256, vocab_size, 128, n_classes, 0.5).to(device)\n",
        "model_new.load_state_dict(torch.load('/content/drive/MyDrive/model_final.pt'))\n",
        "\n",
        "corrects = 0\n",
        "for batch in val_iter:\n",
        "  x,y = batch.text.to(device), batch.label.to(device)\n",
        "  y.data.sub_(1)\n",
        "  hypothesis = model_new(x)\n",
        "  corrects += (hypothesis.max(1)[1].view(y.size()).data == y.data).sum() \n",
        "\n",
        "print('Fianl Model Accuracy = ', corrects/len(val_iter.dataset)*100.0)"
      ],
      "metadata": {
        "colab": {
          "base_uri": "https://localhost:8080/"
        },
        "id": "yxshdaIeEdM9",
        "outputId": "887a1329-0a89-47dc-ad92-02067f1a1a5e"
      },
      "execution_count": 43,
      "outputs": [
        {
          "output_type": "stream",
          "name": "stdout",
          "text": [
            "Fianl Model Accuracy =  tensor(56.8574, device='cuda:0')\n"
          ]
        }
      ]
    }
  ]
}